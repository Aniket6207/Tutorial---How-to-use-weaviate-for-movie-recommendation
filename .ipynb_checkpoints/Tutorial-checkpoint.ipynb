{
 "cells": [
  {
   "cell_type": "markdown",
   "id": "21f48c6c",
   "metadata": {},
   "source": [
    "# A Simple Netflix Movie and TVshow search engine using Weaviate "
   ]
  },
  {
   "cell_type": "markdown",
   "id": "59006089",
   "metadata": {},
   "source": [
    "In this example we will create a search engine system. For that purpose, We will use __Weaviate__ to vectorize and store data, and to find answers to natural language queries. "
   ]
  },
  {
   "cell_type": "markdown",
   "id": "50d2cd74",
   "metadata": {},
   "source": [
    "**Weaviate in detail**: Weaviate is a low-latency vector search engine with out-of-the-box support for different media types (text, images, etc.). It offers Semantic Search, Question-Answer Extraction, Classification, Customizable Models (PyTorch/TensorFlow/Keras), and more. Built from scratch in Go, Weaviate stores both objects and vectors, allowing for combining vector search with structured filtering and the fault-tolerance of a cloud-native database, all accessible through GraphQL, REST, and various programming language clients.\n",
    "\n",
    "You can check Weaviate's official documentation over [**here**](https://weaviate.io/developers/weaviate/current/)"
   ]
  },
  {
   "cell_type": "markdown",
   "id": "e08f0df3",
   "metadata": {},
   "source": [
    "# Prerequisites\n",
    "\n",
    "* __Create an weaviate instance/cluster.__\n",
    "\n",
    "  Creating a Weaviate instance can be done in multiple ways. It can be done using a docker-compose.yaml file that can be    generated [here](https://weaviate.io/developers/weaviate/current/getting-started/installation.html#customize-your-weaviate-setup). For this option you have to have **docker** and **docker-compose installed**, and space on your drive.\n",
    "\n",
    "  Another option is to create an account on [Weaviate Cloud Service](https://console.semi.technology/)(WCS) and create a cluster there. There are different options for clusters you can choose from. If you do not have an account go ahead and create one."
   ]
  },
  {
   "cell_type": "markdown",
   "id": "4d201444",
   "metadata": {},
   "source": [
    "#  Let's begin"
   ]
  },
  {
   "cell_type": "markdown",
   "id": "681eea73",
   "metadata": {},
   "source": [
    "The first thing we have to do now, is to install the Weaviate Python Client. It can be done using pip command in the terminal"
   ]
  },
  {
   "cell_type": "markdown",
   "id": "0df0f8bd",
   "metadata": {},
   "source": [
    "pip install weaviate-client"
   ]
  },
  {
   "cell_type": "code",
   "execution_count": 1,
   "id": "3cbd23fd",
   "metadata": {},
   "outputs": [],
   "source": [
    "import weaviate "
   ]
  },
  {
   "cell_type": "markdown",
   "id": "3cec3ea6",
   "metadata": {},
   "source": [
    "Import weaviate to communicate to the Weaviate instance"
   ]
  },
  {
   "cell_type": "code",
   "execution_count": 2,
   "id": "01149c27",
   "metadata": {},
   "outputs": [],
   "source": [
    "client = weaviate.Client(\"http://localhost:8080\")"
   ]
  },
  {
   "cell_type": "markdown",
   "id": "c1fa5bcb",
   "metadata": {},
   "source": [
    "Connect to the cluster."
   ]
  },
  {
   "cell_type": "code",
   "execution_count": 3,
   "id": "589523d1",
   "metadata": {},
   "outputs": [
    {
     "data": {
      "text/plain": [
       "True"
      ]
     },
     "execution_count": 3,
     "metadata": {},
     "output_type": "execute_result"
    }
   ],
   "source": [
    "client.is_ready()"
   ]
  },
  {
   "cell_type": "markdown",
   "id": "b3c7ce40",
   "metadata": {},
   "source": [
    "To check the status of a cluster we can use **is_ready** method as shown above"
   ]
  },
  {
   "cell_type": "code",
   "execution_count": 4,
   "id": "489b3ed3",
   "metadata": {},
   "outputs": [],
   "source": [
    "import pandas as pd\n",
    "df = pd.read_csv('netflix_titles.csv')\n",
    "import warnings\n",
    "warnings.filterwarnings('ignore')"
   ]
  },
  {
   "cell_type": "markdown",
   "id": "744fa64b",
   "metadata": {},
   "source": [
    "For this example, we are using a dataset from [**kaggle**](https://www.kaggle.com/).\n",
    "\n",
    "**About this Dataset:** Netflix is one of the most popular media and video streaming platforms. They have over 8000 movies or tv shows available on their platform, as of mid-2021, they have over 200M Subscribers globally. This tabular dataset consists of listings of all the movies and tv shows available on Netflix, along with details such as - cast, directors, ratings, release year, duration, etc.\n",
    "\n",
    "You can find the dataset [here](https://www.kaggle.com/datasets/shivamb/netflix-shows)"
   ]
  },
  {
   "cell_type": "markdown",
   "id": "730d61aa",
   "metadata": {},
   "source": [
    "# Preprocessing "
   ]
  },
  {
   "cell_type": "code",
   "execution_count": 5,
   "id": "d912ef86",
   "metadata": {},
   "outputs": [
    {
     "data": {
      "text/html": [
       "<div>\n",
       "<style scoped>\n",
       "    .dataframe tbody tr th:only-of-type {\n",
       "        vertical-align: middle;\n",
       "    }\n",
       "\n",
       "    .dataframe tbody tr th {\n",
       "        vertical-align: top;\n",
       "    }\n",
       "\n",
       "    .dataframe thead th {\n",
       "        text-align: right;\n",
       "    }\n",
       "</style>\n",
       "<table border=\"1\" class=\"dataframe\">\n",
       "  <thead>\n",
       "    <tr style=\"text-align: right;\">\n",
       "      <th></th>\n",
       "      <th>show_id</th>\n",
       "      <th>type</th>\n",
       "      <th>title</th>\n",
       "      <th>director</th>\n",
       "      <th>cast</th>\n",
       "      <th>country</th>\n",
       "      <th>date_added</th>\n",
       "      <th>release_year</th>\n",
       "      <th>rating</th>\n",
       "      <th>duration</th>\n",
       "      <th>listed_in</th>\n",
       "      <th>description</th>\n",
       "    </tr>\n",
       "  </thead>\n",
       "  <tbody>\n",
       "    <tr>\n",
       "      <th>0</th>\n",
       "      <td>s1</td>\n",
       "      <td>Movie</td>\n",
       "      <td>Dick Johnson Is Dead</td>\n",
       "      <td>Kirsten Johnson</td>\n",
       "      <td>NaN</td>\n",
       "      <td>United States</td>\n",
       "      <td>September 25, 2021</td>\n",
       "      <td>2020</td>\n",
       "      <td>PG-13</td>\n",
       "      <td>90</td>\n",
       "      <td>Documentaries</td>\n",
       "      <td>As her father nears the end of his life, filmm...</td>\n",
       "    </tr>\n",
       "    <tr>\n",
       "      <th>1</th>\n",
       "      <td>s2</td>\n",
       "      <td>TV Show</td>\n",
       "      <td>Blood &amp; Water</td>\n",
       "      <td>NaN</td>\n",
       "      <td>Ama Qamata, Khosi Ngema, Gail Mabalane, Thaban...</td>\n",
       "      <td>South Africa</td>\n",
       "      <td>September 24, 2021</td>\n",
       "      <td>2021</td>\n",
       "      <td>TV-MA</td>\n",
       "      <td>2</td>\n",
       "      <td>International TV Shows, TV Dramas, TV Mysteries</td>\n",
       "      <td>After crossing paths at a party, a Cape Town t...</td>\n",
       "    </tr>\n",
       "    <tr>\n",
       "      <th>2</th>\n",
       "      <td>s3</td>\n",
       "      <td>TV Show</td>\n",
       "      <td>Ganglands</td>\n",
       "      <td>Julien Leclercq</td>\n",
       "      <td>Sami Bouajila, Tracy Gotoas, Samuel Jouy, Nabi...</td>\n",
       "      <td>NaN</td>\n",
       "      <td>September 24, 2021</td>\n",
       "      <td>2021</td>\n",
       "      <td>TV-MA</td>\n",
       "      <td>1</td>\n",
       "      <td>Crime TV Shows, International TV Shows, TV Act...</td>\n",
       "      <td>To protect his family from a powerful drug lor...</td>\n",
       "    </tr>\n",
       "    <tr>\n",
       "      <th>3</th>\n",
       "      <td>s4</td>\n",
       "      <td>TV Show</td>\n",
       "      <td>Jailbirds New Orleans</td>\n",
       "      <td>NaN</td>\n",
       "      <td>NaN</td>\n",
       "      <td>NaN</td>\n",
       "      <td>September 24, 2021</td>\n",
       "      <td>2021</td>\n",
       "      <td>TV-MA</td>\n",
       "      <td>1</td>\n",
       "      <td>Docuseries, Reality TV</td>\n",
       "      <td>Feuds, flirtations and toilet talk go down amo...</td>\n",
       "    </tr>\n",
       "    <tr>\n",
       "      <th>4</th>\n",
       "      <td>s5</td>\n",
       "      <td>TV Show</td>\n",
       "      <td>Kota Factory</td>\n",
       "      <td>NaN</td>\n",
       "      <td>Mayur More, Jitendra Kumar, Ranjan Raj, Alam K...</td>\n",
       "      <td>India</td>\n",
       "      <td>September 24, 2021</td>\n",
       "      <td>2021</td>\n",
       "      <td>TV-MA</td>\n",
       "      <td>2</td>\n",
       "      <td>International TV Shows, Romantic TV Shows, TV ...</td>\n",
       "      <td>In a city of coaching centers known to train I...</td>\n",
       "    </tr>\n",
       "  </tbody>\n",
       "</table>\n",
       "</div>"
      ],
      "text/plain": [
       "  show_id     type                  title         director  \\\n",
       "0      s1    Movie   Dick Johnson Is Dead  Kirsten Johnson   \n",
       "1      s2  TV Show          Blood & Water              NaN   \n",
       "2      s3  TV Show              Ganglands  Julien Leclercq   \n",
       "3      s4  TV Show  Jailbirds New Orleans              NaN   \n",
       "4      s5  TV Show           Kota Factory              NaN   \n",
       "\n",
       "                                                cast        country  \\\n",
       "0                                                NaN  United States   \n",
       "1  Ama Qamata, Khosi Ngema, Gail Mabalane, Thaban...   South Africa   \n",
       "2  Sami Bouajila, Tracy Gotoas, Samuel Jouy, Nabi...            NaN   \n",
       "3                                                NaN            NaN   \n",
       "4  Mayur More, Jitendra Kumar, Ranjan Raj, Alam K...          India   \n",
       "\n",
       "           date_added  release_year rating  duration  \\\n",
       "0  September 25, 2021          2020  PG-13        90   \n",
       "1  September 24, 2021          2021  TV-MA         2   \n",
       "2  September 24, 2021          2021  TV-MA         1   \n",
       "3  September 24, 2021          2021  TV-MA         1   \n",
       "4  September 24, 2021          2021  TV-MA         2   \n",
       "\n",
       "                                           listed_in  \\\n",
       "0                                      Documentaries   \n",
       "1    International TV Shows, TV Dramas, TV Mysteries   \n",
       "2  Crime TV Shows, International TV Shows, TV Act...   \n",
       "3                             Docuseries, Reality TV   \n",
       "4  International TV Shows, Romantic TV Shows, TV ...   \n",
       "\n",
       "                                         description  \n",
       "0  As her father nears the end of his life, filmm...  \n",
       "1  After crossing paths at a party, a Cape Town t...  \n",
       "2  To protect his family from a powerful drug lor...  \n",
       "3  Feuds, flirtations and toilet talk go down amo...  \n",
       "4  In a city of coaching centers known to train I...  "
      ]
     },
     "execution_count": 5,
     "metadata": {},
     "output_type": "execute_result"
    }
   ],
   "source": [
    "df.head()"
   ]
  },
  {
   "cell_type": "markdown",
   "id": "b29ae776",
   "metadata": {},
   "source": [
    "As you can see the dataset has two types of content, **Movies and TV Shows**\n",
    "\n",
    "So first of all, we will split the dataframe into two dataframes using simple commands of pandas library."
   ]
  },
  {
   "cell_type": "code",
   "execution_count": 6,
   "id": "4d72027b",
   "metadata": {},
   "outputs": [],
   "source": [
    "df1 = df[df['type']=='Movie']"
   ]
  },
  {
   "cell_type": "code",
   "execution_count": 7,
   "id": "94173157",
   "metadata": {},
   "outputs": [],
   "source": [
    "df2 = df[df['type']=='TV Show']"
   ]
  },
  {
   "cell_type": "code",
   "execution_count": 8,
   "id": "e6e787df",
   "metadata": {},
   "outputs": [
    {
     "data": {
      "text/html": [
       "<div>\n",
       "<style scoped>\n",
       "    .dataframe tbody tr th:only-of-type {\n",
       "        vertical-align: middle;\n",
       "    }\n",
       "\n",
       "    .dataframe tbody tr th {\n",
       "        vertical-align: top;\n",
       "    }\n",
       "\n",
       "    .dataframe thead th {\n",
       "        text-align: right;\n",
       "    }\n",
       "</style>\n",
       "<table border=\"1\" class=\"dataframe\">\n",
       "  <thead>\n",
       "    <tr style=\"text-align: right;\">\n",
       "      <th></th>\n",
       "      <th>show_id</th>\n",
       "      <th>type</th>\n",
       "      <th>title</th>\n",
       "      <th>director</th>\n",
       "      <th>cast</th>\n",
       "      <th>country</th>\n",
       "      <th>date_added</th>\n",
       "      <th>release_year</th>\n",
       "      <th>rating</th>\n",
       "      <th>duration</th>\n",
       "      <th>listed_in</th>\n",
       "      <th>description</th>\n",
       "    </tr>\n",
       "  </thead>\n",
       "  <tbody>\n",
       "    <tr>\n",
       "      <th>0</th>\n",
       "      <td>s1</td>\n",
       "      <td>Movie</td>\n",
       "      <td>Dick Johnson Is Dead</td>\n",
       "      <td>Kirsten Johnson</td>\n",
       "      <td>NaN</td>\n",
       "      <td>United States</td>\n",
       "      <td>September 25, 2021</td>\n",
       "      <td>2020</td>\n",
       "      <td>PG-13</td>\n",
       "      <td>90</td>\n",
       "      <td>Documentaries</td>\n",
       "      <td>As her father nears the end of his life, filmm...</td>\n",
       "    </tr>\n",
       "    <tr>\n",
       "      <th>6</th>\n",
       "      <td>s7</td>\n",
       "      <td>Movie</td>\n",
       "      <td>My Little Pony: A New Generation</td>\n",
       "      <td>Robert Cullen, José Luis Ucha</td>\n",
       "      <td>Vanessa Hudgens, Kimiko Glenn, James Marsden, ...</td>\n",
       "      <td>NaN</td>\n",
       "      <td>September 24, 2021</td>\n",
       "      <td>2021</td>\n",
       "      <td>PG</td>\n",
       "      <td>91</td>\n",
       "      <td>Children &amp; Family Movies</td>\n",
       "      <td>Equestria's divided. But a bright-eyed hero be...</td>\n",
       "    </tr>\n",
       "    <tr>\n",
       "      <th>7</th>\n",
       "      <td>s8</td>\n",
       "      <td>Movie</td>\n",
       "      <td>Sankofa</td>\n",
       "      <td>Haile Gerima</td>\n",
       "      <td>Kofi Ghanaba, Oyafunmike Ogunlano, Alexandra D...</td>\n",
       "      <td>United States, Ghana, Burkina Faso, United Kin...</td>\n",
       "      <td>September 24, 2021</td>\n",
       "      <td>1993</td>\n",
       "      <td>TV-MA</td>\n",
       "      <td>125</td>\n",
       "      <td>Dramas, Independent Movies, International Movies</td>\n",
       "      <td>On a photo shoot in Ghana, an American model s...</td>\n",
       "    </tr>\n",
       "    <tr>\n",
       "      <th>9</th>\n",
       "      <td>s10</td>\n",
       "      <td>Movie</td>\n",
       "      <td>The Starling</td>\n",
       "      <td>Theodore Melfi</td>\n",
       "      <td>Melissa McCarthy, Chris O'Dowd, Kevin Kline, T...</td>\n",
       "      <td>United States</td>\n",
       "      <td>September 24, 2021</td>\n",
       "      <td>2021</td>\n",
       "      <td>PG-13</td>\n",
       "      <td>104</td>\n",
       "      <td>Comedies, Dramas</td>\n",
       "      <td>A woman adjusting to life after a loss contend...</td>\n",
       "    </tr>\n",
       "    <tr>\n",
       "      <th>12</th>\n",
       "      <td>s13</td>\n",
       "      <td>Movie</td>\n",
       "      <td>Je Suis Karl</td>\n",
       "      <td>Christian Schwochow</td>\n",
       "      <td>Luna Wedler, Jannis Niewöhner, Milan Peschel, ...</td>\n",
       "      <td>Germany, Czech Republic</td>\n",
       "      <td>September 23, 2021</td>\n",
       "      <td>2021</td>\n",
       "      <td>TV-MA</td>\n",
       "      <td>127</td>\n",
       "      <td>Dramas, International Movies</td>\n",
       "      <td>After most of her family is murdered in a terr...</td>\n",
       "    </tr>\n",
       "  </tbody>\n",
       "</table>\n",
       "</div>"
      ],
      "text/plain": [
       "   show_id   type                             title  \\\n",
       "0       s1  Movie              Dick Johnson Is Dead   \n",
       "6       s7  Movie  My Little Pony: A New Generation   \n",
       "7       s8  Movie                           Sankofa   \n",
       "9      s10  Movie                      The Starling   \n",
       "12     s13  Movie                      Je Suis Karl   \n",
       "\n",
       "                         director  \\\n",
       "0                 Kirsten Johnson   \n",
       "6   Robert Cullen, José Luis Ucha   \n",
       "7                    Haile Gerima   \n",
       "9                  Theodore Melfi   \n",
       "12            Christian Schwochow   \n",
       "\n",
       "                                                 cast  \\\n",
       "0                                                 NaN   \n",
       "6   Vanessa Hudgens, Kimiko Glenn, James Marsden, ...   \n",
       "7   Kofi Ghanaba, Oyafunmike Ogunlano, Alexandra D...   \n",
       "9   Melissa McCarthy, Chris O'Dowd, Kevin Kline, T...   \n",
       "12  Luna Wedler, Jannis Niewöhner, Milan Peschel, ...   \n",
       "\n",
       "                                              country          date_added  \\\n",
       "0                                       United States  September 25, 2021   \n",
       "6                                                 NaN  September 24, 2021   \n",
       "7   United States, Ghana, Burkina Faso, United Kin...  September 24, 2021   \n",
       "9                                       United States  September 24, 2021   \n",
       "12                            Germany, Czech Republic  September 23, 2021   \n",
       "\n",
       "    release_year rating  duration  \\\n",
       "0           2020  PG-13        90   \n",
       "6           2021     PG        91   \n",
       "7           1993  TV-MA       125   \n",
       "9           2021  PG-13       104   \n",
       "12          2021  TV-MA       127   \n",
       "\n",
       "                                           listed_in  \\\n",
       "0                                      Documentaries   \n",
       "6                           Children & Family Movies   \n",
       "7   Dramas, Independent Movies, International Movies   \n",
       "9                                   Comedies, Dramas   \n",
       "12                      Dramas, International Movies   \n",
       "\n",
       "                                          description  \n",
       "0   As her father nears the end of his life, filmm...  \n",
       "6   Equestria's divided. But a bright-eyed hero be...  \n",
       "7   On a photo shoot in Ghana, an American model s...  \n",
       "9   A woman adjusting to life after a loss contend...  \n",
       "12  After most of her family is murdered in a terr...  "
      ]
     },
     "execution_count": 8,
     "metadata": {},
     "output_type": "execute_result"
    }
   ],
   "source": [
    "df1.head()"
   ]
  },
  {
   "cell_type": "code",
   "execution_count": 9,
   "id": "0f89490d",
   "metadata": {},
   "outputs": [
    {
     "data": {
      "text/html": [
       "<div>\n",
       "<style scoped>\n",
       "    .dataframe tbody tr th:only-of-type {\n",
       "        vertical-align: middle;\n",
       "    }\n",
       "\n",
       "    .dataframe tbody tr th {\n",
       "        vertical-align: top;\n",
       "    }\n",
       "\n",
       "    .dataframe thead th {\n",
       "        text-align: right;\n",
       "    }\n",
       "</style>\n",
       "<table border=\"1\" class=\"dataframe\">\n",
       "  <thead>\n",
       "    <tr style=\"text-align: right;\">\n",
       "      <th></th>\n",
       "      <th>show_id</th>\n",
       "      <th>type</th>\n",
       "      <th>title</th>\n",
       "      <th>director</th>\n",
       "      <th>cast</th>\n",
       "      <th>country</th>\n",
       "      <th>date_added</th>\n",
       "      <th>release_year</th>\n",
       "      <th>rating</th>\n",
       "      <th>duration</th>\n",
       "      <th>listed_in</th>\n",
       "      <th>description</th>\n",
       "    </tr>\n",
       "  </thead>\n",
       "  <tbody>\n",
       "    <tr>\n",
       "      <th>1</th>\n",
       "      <td>s2</td>\n",
       "      <td>TV Show</td>\n",
       "      <td>Blood &amp; Water</td>\n",
       "      <td>NaN</td>\n",
       "      <td>Ama Qamata, Khosi Ngema, Gail Mabalane, Thaban...</td>\n",
       "      <td>South Africa</td>\n",
       "      <td>September 24, 2021</td>\n",
       "      <td>2021</td>\n",
       "      <td>TV-MA</td>\n",
       "      <td>2</td>\n",
       "      <td>International TV Shows, TV Dramas, TV Mysteries</td>\n",
       "      <td>After crossing paths at a party, a Cape Town t...</td>\n",
       "    </tr>\n",
       "    <tr>\n",
       "      <th>2</th>\n",
       "      <td>s3</td>\n",
       "      <td>TV Show</td>\n",
       "      <td>Ganglands</td>\n",
       "      <td>Julien Leclercq</td>\n",
       "      <td>Sami Bouajila, Tracy Gotoas, Samuel Jouy, Nabi...</td>\n",
       "      <td>NaN</td>\n",
       "      <td>September 24, 2021</td>\n",
       "      <td>2021</td>\n",
       "      <td>TV-MA</td>\n",
       "      <td>1</td>\n",
       "      <td>Crime TV Shows, International TV Shows, TV Act...</td>\n",
       "      <td>To protect his family from a powerful drug lor...</td>\n",
       "    </tr>\n",
       "    <tr>\n",
       "      <th>3</th>\n",
       "      <td>s4</td>\n",
       "      <td>TV Show</td>\n",
       "      <td>Jailbirds New Orleans</td>\n",
       "      <td>NaN</td>\n",
       "      <td>NaN</td>\n",
       "      <td>NaN</td>\n",
       "      <td>September 24, 2021</td>\n",
       "      <td>2021</td>\n",
       "      <td>TV-MA</td>\n",
       "      <td>1</td>\n",
       "      <td>Docuseries, Reality TV</td>\n",
       "      <td>Feuds, flirtations and toilet talk go down amo...</td>\n",
       "    </tr>\n",
       "    <tr>\n",
       "      <th>4</th>\n",
       "      <td>s5</td>\n",
       "      <td>TV Show</td>\n",
       "      <td>Kota Factory</td>\n",
       "      <td>NaN</td>\n",
       "      <td>Mayur More, Jitendra Kumar, Ranjan Raj, Alam K...</td>\n",
       "      <td>India</td>\n",
       "      <td>September 24, 2021</td>\n",
       "      <td>2021</td>\n",
       "      <td>TV-MA</td>\n",
       "      <td>2</td>\n",
       "      <td>International TV Shows, Romantic TV Shows, TV ...</td>\n",
       "      <td>In a city of coaching centers known to train I...</td>\n",
       "    </tr>\n",
       "    <tr>\n",
       "      <th>5</th>\n",
       "      <td>s6</td>\n",
       "      <td>TV Show</td>\n",
       "      <td>Midnight Mass</td>\n",
       "      <td>Mike Flanagan</td>\n",
       "      <td>Kate Siegel, Zach Gilford, Hamish Linklater, H...</td>\n",
       "      <td>NaN</td>\n",
       "      <td>September 24, 2021</td>\n",
       "      <td>2021</td>\n",
       "      <td>TV-MA</td>\n",
       "      <td>1</td>\n",
       "      <td>TV Dramas, TV Horror, TV Mysteries</td>\n",
       "      <td>The arrival of a charismatic young priest brin...</td>\n",
       "    </tr>\n",
       "  </tbody>\n",
       "</table>\n",
       "</div>"
      ],
      "text/plain": [
       "  show_id     type                  title         director  \\\n",
       "1      s2  TV Show          Blood & Water              NaN   \n",
       "2      s3  TV Show              Ganglands  Julien Leclercq   \n",
       "3      s4  TV Show  Jailbirds New Orleans              NaN   \n",
       "4      s5  TV Show           Kota Factory              NaN   \n",
       "5      s6  TV Show          Midnight Mass    Mike Flanagan   \n",
       "\n",
       "                                                cast       country  \\\n",
       "1  Ama Qamata, Khosi Ngema, Gail Mabalane, Thaban...  South Africa   \n",
       "2  Sami Bouajila, Tracy Gotoas, Samuel Jouy, Nabi...           NaN   \n",
       "3                                                NaN           NaN   \n",
       "4  Mayur More, Jitendra Kumar, Ranjan Raj, Alam K...         India   \n",
       "5  Kate Siegel, Zach Gilford, Hamish Linklater, H...           NaN   \n",
       "\n",
       "           date_added  release_year rating  duration  \\\n",
       "1  September 24, 2021          2021  TV-MA         2   \n",
       "2  September 24, 2021          2021  TV-MA         1   \n",
       "3  September 24, 2021          2021  TV-MA         1   \n",
       "4  September 24, 2021          2021  TV-MA         2   \n",
       "5  September 24, 2021          2021  TV-MA         1   \n",
       "\n",
       "                                           listed_in  \\\n",
       "1    International TV Shows, TV Dramas, TV Mysteries   \n",
       "2  Crime TV Shows, International TV Shows, TV Act...   \n",
       "3                             Docuseries, Reality TV   \n",
       "4  International TV Shows, Romantic TV Shows, TV ...   \n",
       "5                 TV Dramas, TV Horror, TV Mysteries   \n",
       "\n",
       "                                         description  \n",
       "1  After crossing paths at a party, a Cape Town t...  \n",
       "2  To protect his family from a powerful drug lor...  \n",
       "3  Feuds, flirtations and toilet talk go down amo...  \n",
       "4  In a city of coaching centers known to train I...  \n",
       "5  The arrival of a charismatic young priest brin...  "
      ]
     },
     "execution_count": 9,
     "metadata": {},
     "output_type": "execute_result"
    }
   ],
   "source": [
    "df2.head()"
   ]
  },
  {
   "cell_type": "code",
   "execution_count": 10,
   "id": "ca25bf94",
   "metadata": {},
   "outputs": [],
   "source": [
    "df1.reset_index(inplace=True)\n",
    "df2.reset_index(inplace=True)\n",
    "df1.drop('index',axis='columns', inplace=True)\n",
    "df2.drop('index',axis='columns', inplace=True)"
   ]
  },
  {
   "cell_type": "markdown",
   "id": "0b34d887",
   "metadata": {},
   "source": [
    "As we have splited the data, we don't need the column of 'type' and 'show_id'.\n",
    "\n",
    "So we will drop these two columns using drop function of pandas"
   ]
  },
  {
   "cell_type": "code",
   "execution_count": 11,
   "id": "b7a01647",
   "metadata": {},
   "outputs": [],
   "source": [
    "df1.drop('type',\n",
    "  axis='columns', inplace=True)"
   ]
  },
  {
   "cell_type": "code",
   "execution_count": 12,
   "id": "8f880b9f",
   "metadata": {},
   "outputs": [],
   "source": [
    "df2.drop('type',\n",
    "  axis='columns', inplace=True)"
   ]
  },
  {
   "cell_type": "code",
   "execution_count": 13,
   "id": "545b552a",
   "metadata": {},
   "outputs": [],
   "source": [
    "df1.drop('show_id',\n",
    "  axis='columns', inplace=True)"
   ]
  },
  {
   "cell_type": "code",
   "execution_count": 14,
   "id": "96801cb6",
   "metadata": {},
   "outputs": [],
   "source": [
    "df2.drop('show_id',\n",
    "  axis='columns', inplace=True)"
   ]
  },
  {
   "cell_type": "markdown",
   "id": "a7964c70",
   "metadata": {},
   "source": [
    "There are some of missing values in our dataframe, we will need to fill them."
   ]
  },
  {
   "cell_type": "code",
   "execution_count": 15,
   "id": "c902e1b2",
   "metadata": {},
   "outputs": [],
   "source": [
    "df1.fillna(\"Not Given\",inplace=True)"
   ]
  },
  {
   "cell_type": "code",
   "execution_count": 16,
   "id": "fc889e8c",
   "metadata": {},
   "outputs": [],
   "source": [
    "df2.fillna(\"Not Given\",inplace=True)"
   ]
  },
  {
   "cell_type": "markdown",
   "id": "5643fe71",
   "metadata": {},
   "source": [
    "Our dataframes are ready"
   ]
  },
  {
   "cell_type": "markdown",
   "id": "bdaa6ce7",
   "metadata": {},
   "source": [
    "# Creating schema with appropriate data types"
   ]
  },
  {
   "cell_type": "markdown",
   "id": "57f2867b",
   "metadata": {},
   "source": [
    "So lets create the Movie class and TvShow class. We know that the Movie has a title, director, cast, country, Listed_In and description and same for TvShow\n",
    "\n",
    "More about schemas and how to create them can be found [here](https://weaviate.io/developers/weaviate/current/data-schema/schema-configuration.html) and [here](https://weaviate.io/developers/weaviate/current/restful-api-references/schema.html#parameters)."
   ]
  },
  {
   "cell_type": "code",
   "execution_count": 17,
   "id": "6084d0be",
   "metadata": {},
   "outputs": [],
   "source": [
    "client.schema.delete_all()\n",
    "schema = {\n",
    "    \"classes\": [\n",
    "        {\n",
    "            \"class\": \"Movie\",\n",
    "            \"description\": \"A Netflix movie\",\n",
    "            \"properties\": [\n",
    "                {\n",
    "                    \"name\": \"title\",\n",
    "                    \"description\": \"The name of the movie\",\n",
    "                    \"dataType\": [\"string\"]\n",
    "                }, {\n",
    "                    \"name\": \"director\",\n",
    "                    \"description\": \"The name of the director of the movie\",\n",
    "                    \"dataType\": [\"text[]\"]\n",
    "                }, {\n",
    "                    \"name\": \"cast\",\n",
    "                    \"description\": \"Cast of the movie\",\n",
    "                    \"dataType\": [\"text[]\"]\n",
    "                }, {\n",
    "                    \"name\": \"country\",\n",
    "                    \"description\": \"The country/countries in which movie was created\",\n",
    "                    \"dataType\": [\"text[]\"]\n",
    "                },{\n",
    "                    \"name\": \"listedin\",\n",
    "                    \"description\": \"The movie was listed in\",\n",
    "                    \"dataType\": [\"text[]\"]\n",
    "                },{\n",
    "                    \"name\": \"description\",\n",
    "                    \"description\": \"The summary\",\n",
    "                    \"dataType\": [\"text\"]\n",
    "                }\n",
    "                \n",
    "            ]\n",
    "      \n",
    "        },        {\n",
    "            \"class\": \"TvShow\",\n",
    "            \"description\": \"A Netflix TV Show\",\n",
    "            \"properties\": [\n",
    "                {\n",
    "                    \"name\": \"title\",\n",
    "                    \"description\": \"The name of the Tv show\",\n",
    "                    \"dataType\": [\"string\"]\n",
    "                }, {\n",
    "                    \"name\": \"director\",\n",
    "                    \"description\": \"The name of the director of the TV show\",\n",
    "                    \"dataType\": [\"text[]\"]\n",
    "                }, {\n",
    "                    \"name\": \"cast\",\n",
    "                    \"description\": \"Cast of the TV Show\",\n",
    "                    \"dataType\": [\"text[]\"]\n",
    "                }, {\n",
    "                    \"name\": \"country\",\n",
    "                    \"description\": \"The country/countries in which TV show was created\",\n",
    "                    \"dataType\": [\"text[]\"]\n",
    "                },{\n",
    "                    \"name\": \"listedin\",\n",
    "                    \"description\": \"The TV show was listed in\",\n",
    "                    \"dataType\": [\"text[]\"]\n",
    "                },{\n",
    "                    \"name\": \"description\",\n",
    "                    \"description\": \"The summary\",\n",
    "                    \"dataType\": [\"text\"]\n",
    "                }\n",
    "                \n",
    "            ]\n",
    "      \n",
    "        }\n",
    "    ]\n",
    "}\n",
    "\n",
    "client.schema.create(schema)"
   ]
  },
  {
   "cell_type": "markdown",
   "id": "1c46e664",
   "metadata": {},
   "source": [
    "In the schema above we create a class named **Movie** and **TvShow** with the description.The description is there to explain the user what this class is about.\n",
    "\n",
    "Also we define 6 properties for each class : title - The title of the movie/tvshow, of type string (case sensitive), director, cast, country and listedin, of data type text[] and description, of data type text (case insensitive). The list of primitive data types can be found [here](https://weaviate.io/developers/weaviate/current/data-schema/datatypes.html).\n",
    "\n",
    "**NOTE 1**: The properties should always be in cameCase format and starts with a lowercased word.\n",
    "\n",
    "**NOTE 2**: The property data type is always a list because it can accept more than one data type."
   ]
  },
  {
   "cell_type": "markdown",
   "id": "6dfe97ff",
   "metadata": {},
   "source": [
    "Our schema is ready.This way we can save now the schema in a file and in the next session just directly import it by providing the file path. "
   ]
  },
  {
   "cell_type": "code",
   "execution_count": 18,
   "id": "eba67c8c",
   "metadata": {},
   "outputs": [],
   "source": [
    "import json\n",
    "# save schema to file\n",
    "with open('schema.json', 'w') as outfile: \n",
    "    json.dump(schema, outfile)\n",
    "# remove current schema from Weaviate, removes all the data too\n",
    "client.schema.delete_all()\n",
    "# import schema using file path\n",
    "client.schema.create('schema.json')"
   ]
  },
  {
   "cell_type": "markdown",
   "id": "97392f45",
   "metadata": {},
   "source": [
    "#  Load data"
   ]
  },
  {
   "cell_type": "code",
   "execution_count": 19,
   "id": "c911a055",
   "metadata": {},
   "outputs": [],
   "source": [
    "import uuid\n",
    "def generate_uuid(class_name: str, identifier: str,\n",
    "                  test: str = 'teststrong') -> str:\n",
    "    \"\"\" Generate a uuid based on an identifier\n",
    "    :param identifier: characters used to generate the uuid\n",
    "    :type identifier: str, required\n",
    "    :param class_name: classname of the object to create a uuid for\n",
    "    :type class_name: str, required\n",
    "    \"\"\"\n",
    "    test = 'overwritten'\n",
    "    return str(uuid.uuid5(uuid.NAMESPACE_DNS, class_name + identifier))"
   ]
  },
  {
   "cell_type": "markdown",
   "id": "24b64dbd",
   "metadata": {},
   "source": [
    "The above function will generate a uuid based on an identifier"
   ]
  },
  {
   "cell_type": "code",
   "execution_count": 20,
   "id": "caf0b8f1",
   "metadata": {},
   "outputs": [],
   "source": [
    "import datetime\n",
    "def log(i: str) -> str:\n",
    "    \"\"\" A simple logger\n",
    "    :param i: the log message\n",
    "    :type i: str\n",
    "    \"\"\"\n",
    "    now = datetime.datetime.utcnow()\n",
    "    print(now, \"| \" + str(i))"
   ]
  },
  {
   "cell_type": "markdown",
   "id": "f5738b87",
   "metadata": {},
   "source": [
    "The above function is a simple logger"
   ]
  },
  {
   "cell_type": "markdown",
   "id": "031e678b",
   "metadata": {},
   "source": [
    "Now that we have our data ready, and Weaviate is aware of what kind of data we have, we can add the **Movies** and **TvShows** to the Weaviate instance."
   ]
  },
  {
   "cell_type": "code",
   "execution_count": 21,
   "id": "3ecbeff8",
   "metadata": {},
   "outputs": [],
   "source": [
    "def add_movies(data, batch_size=512, debug_mode=False): \n",
    "    no_items_in_batch = 0\n",
    "\n",
    "    for index, row in data.iterrows():\n",
    "        res_object = { \n",
    "            \"title\": row[\"title\"] + '.' ,\n",
    "            \"director\": row[\"director\"],\n",
    "            \"cast\": row[\"cast\"],\n",
    "            \"country\": row[\"country\"],\n",
    "            \"listedin\": row[\"listed_in\"],\n",
    "            \"description\": row[\"description\"]\n",
    "        }\n",
    "        res_object['cast'] = res_object['cast'].split(\", \")\n",
    "        res_object['country'] = res_object['country'].split(\", \")\n",
    "        res_object['director'] = res_object['director'].split(\", \")\n",
    "        res_object['listedin'] = res_object['listedin'].split(\", \")\n",
    "\n",
    "        res_uuid = generate_uuid('Movie', str(row[\"title\"])+str(row[\"director\"])+str(row['cast'])+str(row['country'])+str(row['listed_in'])+str(row['description']))\n",
    "\n",
    "        client.batch.add_data_object(res_object, \"Movie\", res_uuid)\n",
    "        no_items_in_batch += 1\n",
    "\n",
    "        if no_items_in_batch >= batch_size:\n",
    "            results = client.batch.create_objects()\n",
    "            \n",
    "            if debug_mode:\n",
    "                for result in results:\n",
    "                    if result['result'] != {}:\n",
    "                        log(result['result'])\n",
    "\n",
    "                message = str(index) + ' / ' + str(data.shape[0]) +  ' items imported'\n",
    "                log(message)\n",
    "\n",
    "            no_items_in_batch = 0\n",
    "\n",
    "    client.batch.create_objects()"
   ]
  },
  {
   "cell_type": "markdown",
   "id": "aa8635c4",
   "metadata": {},
   "source": [
    "The above function will take **data,batch_size,debug_mode** as input parameters.\n",
    "\n",
    "Adding data will be done by adding object by object iteratively. This can be done using the **data_object** object attribute of the client.\n",
    "\n",
    "And when the number of items in a batch becomes greater than equal to the batch_size given by the user, the items will be imported to weaviate using **create_objects** attribute of the client "
   ]
  },
  {
   "cell_type": "code",
   "execution_count": 22,
   "id": "a24e8e8b",
   "metadata": {},
   "outputs": [
    {
     "name": "stdout",
     "output_type": "stream",
     "text": [
      "2022-04-05 04:19:40.247868 | 499 / 6131 items imported\n",
      "2022-04-05 04:19:40.919011 | 999 / 6131 items imported\n",
      "2022-04-05 04:19:41.452863 | 1499 / 6131 items imported\n",
      "2022-04-05 04:19:41.958898 | 1999 / 6131 items imported\n",
      "2022-04-05 04:19:42.451333 | 2499 / 6131 items imported\n",
      "2022-04-05 04:19:42.880628 | 2999 / 6131 items imported\n",
      "2022-04-05 04:19:43.316085 | 3499 / 6131 items imported\n",
      "2022-04-05 04:19:43.865479 | 3999 / 6131 items imported\n",
      "2022-04-05 04:19:44.630706 | 4499 / 6131 items imported\n",
      "2022-04-05 04:19:45.265244 | 4999 / 6131 items imported\n",
      "2022-04-05 04:19:45.884036 | 5499 / 6131 items imported\n",
      "2022-04-05 04:19:46.532124 | 5999 / 6131 items imported\n"
     ]
    }
   ],
   "source": [
    "add_movies(df1,500,True)"
   ]
  },
  {
   "cell_type": "markdown",
   "id": "73c3fb28",
   "metadata": {},
   "source": [
    "Calling the **add_movies** function"
   ]
  },
  {
   "cell_type": "code",
   "execution_count": 23,
   "id": "1c7d3e01",
   "metadata": {},
   "outputs": [],
   "source": [
    "def add_tvshow(data, batch_size=512, debug_mode=False): \n",
    "    no_items_in_batch = 0\n",
    "\n",
    "    for index, row in data.iterrows():\n",
    "        res_object = { \n",
    "            \"title\": row[\"title\"] + '.' ,\n",
    "            \"director\": row[\"director\"],\n",
    "            \"cast\": row[\"cast\"],\n",
    "            \"country\": row[\"country\"],\n",
    "            \"listedin\": row[\"listed_in\"],\n",
    "            \"description\": row[\"description\"]\n",
    "        }\n",
    "        res_object['cast'] = res_object['cast'].split(\", \")\n",
    "        res_object['country'] = res_object['country'].split(\", \")\n",
    "        res_object['director'] = res_object['director'].split(\", \")\n",
    "        res_object['listedin'] = res_object['listedin'].split(\", \")\n",
    "         \n",
    "        res_uuid = generate_uuid('TvShow', str(row[\"title\"])+str(row[\"director\"])+str(row['cast'])+str(row['country'])+str(row['listed_in'])+str(row['duration'])+str(row['description']))\n",
    "\n",
    "        client.batch.add_data_object(res_object, \"TvShow\", res_uuid)\n",
    "        no_items_in_batch += 1\n",
    "\n",
    "        if no_items_in_batch >= batch_size:\n",
    "            results = client.batch.create_objects()\n",
    "            \n",
    "            if debug_mode:\n",
    "                for result in results:\n",
    "                    if result['result'] != {}:\n",
    "                        log(result['result'])\n",
    "\n",
    "                message = str(index) + ' / ' + str(data.shape[0]) +  ' items imported'\n",
    "                log(message)\n",
    "\n",
    "            no_items_in_batch = 0\n",
    "\n",
    "    client.batch.create_objects()"
   ]
  },
  {
   "cell_type": "code",
   "execution_count": 24,
   "id": "ee282f5d",
   "metadata": {},
   "outputs": [
    {
     "name": "stdout",
     "output_type": "stream",
     "text": [
      "2022-04-05 04:19:47.439626 | 499 / 2676 items imported\n",
      "2022-04-05 04:19:48.045393 | 999 / 2676 items imported\n",
      "2022-04-05 04:19:48.635017 | 1499 / 2676 items imported\n",
      "2022-04-05 04:19:49.228900 | 1999 / 2676 items imported\n",
      "2022-04-05 04:19:49.897980 | 2499 / 2676 items imported\n"
     ]
    }
   ],
   "source": [
    "add_tvshow(df2,500,True)"
   ]
  },
  {
   "cell_type": "markdown",
   "id": "87672e31",
   "metadata": {},
   "source": [
    "Repeat the process for TvShow class\n",
    "\n",
    "To see the full capabilities of this new **Batch** object see the full documentation [here](https://weaviate-python-client.readthedocs.io/en/latest/weaviate.batch.html#weaviate.batch.Batch) or execute the help function on Batch or/and any Batch methods, like this: help(Batch)"
   ]
  },
  {
   "cell_type": "markdown",
   "id": "9a509fa5",
   "metadata": {},
   "source": [
    "# Query data."
   ]
  },
  {
   "cell_type": "markdown",
   "id": "a7c4d799",
   "metadata": {},
   "source": [
    "Now we have the data imported and ready to be queried. Data can be queried by using the **query** attribute of the client object **(client.query)**.\n",
    "\n",
    "The data is queried using GraphQL syntax, and can be done in three different ways:\n",
    "\n",
    "- **GET**: query that gets objects and from Weaviate. More information [here](https://weaviate.io/developers/weaviate/current/graphql-references/get.html)\n",
    "\n",
    "  Use **client.query.get(class_name, properties).OTHER_OPTIONAL_FILTERS.do()**\n",
    "  \n",
    "\n",
    "- **AGGREGATE**: query that aggregates data. More information [here](https://weaviate.io/developers/weaviate/current/graphql-references/aggregate.html)\n",
    "\n",
    "  Use **client.query.aggregate(class_name, properties).OTHER_OPTIONAL_FILTERS.do()**\n",
    "  \n",
    "\n",
    "Or use a GraphQL query represented as a str.\n",
    "Use **client.query.raw()**\n",
    "\n",
    "NOTE: Both **.get** and **.aggregate** require the call of the **.do()** method to run the query. .raw() does NOT."
   ]
  },
  {
   "cell_type": "code",
   "execution_count": 25,
   "id": "cb145b16",
   "metadata": {},
   "outputs": [],
   "source": [
    "nearText = {\n",
    "  \"concepts\": [\"dicaprio\"]\n",
    "}"
   ]
  },
  {
   "cell_type": "code",
   "execution_count": 26,
   "id": "79c46d07",
   "metadata": {},
   "outputs": [],
   "source": [
    "result = client.query.get(class_name='Movie', properties=[\"title\"])\\\n",
    "    .with_limit(5)\\\n",
    "    .with_near_text(nearText)\\\n",
    "    .do()"
   ]
  },
  {
   "cell_type": "code",
   "execution_count": 27,
   "id": "0f516903",
   "metadata": {},
   "outputs": [
    {
     "data": {
      "text/plain": [
       "{'data': {'Get': {'Movie': [{'title': 'Gangs of New York.'},\n",
       "    {'title': \"What's Eating Gilbert Grape.\"},\n",
       "    {'title': \"Lee Daniels' The Butler.\"},\n",
       "    {'title': 'Shutter Island.'},\n",
       "    {'title': 'The Irishman: In Conversation.'}]}}}"
      ]
     },
     "execution_count": 27,
     "metadata": {},
     "output_type": "execute_result"
    }
   ],
   "source": [
    "result"
   ]
  },
  {
   "cell_type": "markdown",
   "id": "7dacc2e6",
   "metadata": {},
   "source": [
    "We can do much more by stacking multiple methods. The available methods for .get are:\n",
    "\n",
    "- **.with_limit** - set another limit of returned objects.\n",
    "\n",
    "- **.with_near_object** - get objects that are similar to the object passed to this method.\n",
    "\n",
    "- **.with_near_text** - get objects that are similar to the text passed to this method.\n",
    "\n",
    "- **.with_near_vector** - get objects that are similar to the vector passed to this method.\n",
    "\n",
    "- **.with_where** - get objects that are filtered using the Where filter, see this [link](https://weaviate.io/developers/weaviate/current/graphql-references/filters.html#where-filter) for examples and explanation.\n",
    "\n",
    "- Also instead of .do() one can use the .build() method that returns the GraphQL query as a string. This string can be passed to .raw() method.\n",
    "\n",
    "NOTE: Only one .with_near_* can be used per query."
   ]
  },
  {
   "cell_type": "code",
   "execution_count": 28,
   "id": "55d2be09",
   "metadata": {},
   "outputs": [],
   "source": [
    "nearText2 = {\n",
    "  \"concepts\": [\"comedy\"]\n",
    "}"
   ]
  },
  {
   "cell_type": "code",
   "execution_count": 29,
   "id": "c43eab3a",
   "metadata": {},
   "outputs": [],
   "source": [
    "result2 = client.query.get(class_name='Movie', properties=[\"title\",\"listedin\"])\\\n",
    "    .with_limit(5)\\\n",
    "    .with_near_text(nearText2)\\\n",
    "    .do()"
   ]
  },
  {
   "cell_type": "code",
   "execution_count": 30,
   "id": "442178eb",
   "metadata": {},
   "outputs": [
    {
     "data": {
      "text/plain": [
       "{'data': {'Get': {'Movie': [{'listedin': ['Stand-Up Comedy'],\n",
       "     'title': 'D.L. Hughley: Clear.'},\n",
       "    {'listedin': ['Music & Musicals', 'Stand-Up Comedy'],\n",
       "     'title': 'Reggie Watts: Spatial.'},\n",
       "    {'listedin': ['Comedies', 'Documentaries'],\n",
       "     'title': 'Monty Python: Before the Flying Circus.'},\n",
       "    {'listedin': ['Stand-Up Comedy'], 'title': 'ADAM SANDLER 100% FRESH.'},\n",
       "    {'listedin': ['Stand-Up Comedy'],\n",
       "     'title': 'The Original Kings of Comedy.'}]}}}"
      ]
     },
     "execution_count": 30,
     "metadata": {},
     "output_type": "execute_result"
    }
   ],
   "source": [
    "result2"
   ]
  },
  {
   "cell_type": "code",
   "execution_count": 31,
   "id": "f5e72b65",
   "metadata": {},
   "outputs": [],
   "source": [
    "result3 = client.query.get(class_name='TvShow', properties=[\"title\",\"listedin\"])\\\n",
    "    .with_limit(5)\\\n",
    "    .with_near_text(nearText2)\\\n",
    "    .do()"
   ]
  },
  {
   "cell_type": "code",
   "execution_count": 32,
   "id": "0ada1eeb",
   "metadata": {},
   "outputs": [
    {
     "data": {
      "text/plain": [
       "{'data': {'Get': {'TvShow': [{'listedin': ['Stand-Up Comedy & Talk Shows',\n",
       "      'TV Comedies'],\n",
       "     'title': 'The Standups.'},\n",
       "    {'listedin': ['Stand-Up Comedy & Talk Shows', 'TV Comedies'],\n",
       "     'title': 'Comedians in Cars Getting Coffee.'},\n",
       "    {'listedin': ['Stand-Up Comedy & Talk Shows', 'TV Comedies'],\n",
       "     'title': 'The Degenerates.'},\n",
       "    {'listedin': ['Stand-Up Comedy & Talk Shows', 'TV Comedies'],\n",
       "     'title': 'Dave Chappelle.'},\n",
       "    {'listedin': ['International TV Shows', 'TV Comedies'],\n",
       "     'title': 'Comedy Premium League.'}]}}}"
      ]
     },
     "execution_count": 32,
     "metadata": {},
     "output_type": "execute_result"
    }
   ],
   "source": [
    "result3"
   ]
  },
  {
   "cell_type": "markdown",
   "id": "af083331",
   "metadata": {},
   "source": [
    "### Of course when it comes to querying data, the possibilities are endless. Have fun experimenting with these capabilities.\n",
    "\n",
    "Feel free to check out and contribute to weaviate-client on [GitHub](https://github.com/semi-technologies/weaviate-python-client)."
   ]
  },
  {
   "cell_type": "markdown",
   "id": "5acf9eeb",
   "metadata": {},
   "source": [
    "And I have also created a webpage in which we put a concept of movie and it returns top most recommended movies. Basically a simpler version for querying\n",
    "\n",
    "Do check its code and working video which is there in the repository"
   ]
  }
 ],
 "metadata": {
  "kernelspec": {
   "display_name": "Python 3 (ipykernel)",
   "language": "python",
   "name": "python3"
  },
  "language_info": {
   "codemirror_mode": {
    "name": "ipython",
    "version": 3
   },
   "file_extension": ".py",
   "mimetype": "text/x-python",
   "name": "python",
   "nbconvert_exporter": "python",
   "pygments_lexer": "ipython3",
   "version": "3.10.1"
  }
 },
 "nbformat": 4,
 "nbformat_minor": 5
}
